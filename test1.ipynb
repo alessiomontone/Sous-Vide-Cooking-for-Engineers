{
 "cells": [
  {
   "cell_type": "markdown",
   "metadata": {},
   "source": [
    "## Unified version"
   ]
  },
  {
   "cell_type": "code",
   "execution_count": null,
   "metadata": {},
   "outputs": [],
   "source": [
    "import numpy as np\n",
    "import matplotlib.pyplot as plt\n",
    "from scipy.integrate import solve_ivp\n",
    "\n",
    "# Parameters\n",
    "Thickness = 50e-3  # Thickness of the meat in the larger point in the meat (in m)\n",
    "Beta = 1.0      # Coefficient for the geometry term (set to 0 for slab, 1 for cylinder and 2 for sphere, 1.25 for cube)\n",
    "T_fluid = 58.0  # Fluid temperature in °C\n",
    "T_initial = 5.0  # Initial temperature of the cylinder in °C\n",
    "simulation_hours = 7  # Simulation time in hours\n",
    "alpha = 1.11e-7  # Thermal diffusivity in m^2/s (example for steel)\n",
    "k = 0.48         # Thermal conductivity in W/(m·K) (Sanz et al., thermal conductivity of beef)\n",
    "h = 95          # Convective heat transfer coefficient in W/(m^2·K)\n",
    "N = 30          # Number of radial points\n",
    "R = Thickness / 2  # Radius of the cylinder (10 cm diameter = 0.05 m radius)\n",
    "t_max = 3600*simulation_hours # Maximum simulation time in seconds\n",
    "dt = 60         # Time step in seconds\n",
    "\n",
    "dr = R / (N - 1)  # Radial step size\n",
    "r = np.linspace(0, R, N)  # Radial points from 0 to R\n",
    "t = np.linspace(0, t_max, int(t_max/dt)+1)  # Time points\n",
    "\n",
    "# Define the heat equation with convective boundary conditions\n",
    "def heat_equation(t, T):\n",
    "    dTdt = np.zeros_like(T)\n",
    "    \n",
    "    # Symmetry condition at r = 0\n",
    "    #dTdt[0] = alpha * (T[1] - T[0]) / dr**2\n",
    "    dTdt[0] = alpha * (2 / dr**2) * (T[1] - T[0])\n",
    "\n",
    "    # Interior points\n",
    "    for i in range(1, N - 1):\n",
    "        d2T_dr2 = (T[i+1] - 2*T[i] + T[i-1]) / dr**2\n",
    "        radial_term = (Beta / r[i]) * (T[i+1] - T[i-1]) / (2 * dr) if r[i] != 0 else 0\n",
    "        dTdt[i] = alpha * (d2T_dr2 + radial_term)\n",
    "    \n",
    "    # Convective boundary condition at the outer radius\n",
    "    dTdt[-1] = alpha * (1 / dr**2) * (T[-2] - T[-1] - (dr * h / k) * (T[-1] - T_fluid))\n",
    "    \n",
    "    return dTdt\n",
    "\n",
    "# Solve the PDE using SciPy's solve_ivp\n",
    "solution = solve_ivp(\n",
    "    heat_equation,                 # ODE function\n",
    "    (0, t_max),                    # Time range\n",
    "    np.full(N, T_initial),         # Initial condition (uniform temperature)\n",
    "    method='RK45',                 # Solver\n",
    "    t_eval=t                       # Time points to evaluate\n",
    ")\n",
    "\n",
    "# Extract the solution\n",
    "T_sol = solution.y\n",
    "time_points = solution.t\n",
    "\n",
    "# Plot the results\n",
    "for i in range(0, len(time_points), 10):  # Plot every 20th time point\n",
    "    plt.plot(r, T_sol[:, i], label=f\"t = {(time_points[i])/60:.0f} m\" if i <100 else None)\n",
    "\n",
    "plt.xlabel(\"Radius (m)\")\n",
    "plt.ylabel(\"Temperature (°C)\")\n",
    "plt.title(\"Radial Temperature Evolution in a Heated Body\")\n",
    "plt.legend()\n",
    "plt.grid()\n"
   ]
  },
  {
   "cell_type": "code",
   "execution_count": null,
   "metadata": {},
   "outputs": [],
   "source": [
    "# Extract the temperature at the center of the cylinder (r = 0)\n",
    "center_temperature = T_sol[0, :]  # First row corresponds to T[0] (r = 0)\n",
    "time_points_minutes = time_points / 60  # Convert seconds to minutes\n",
    "\n",
    "# Define 99% of the final temperature\n",
    "final_temperature = T_fluid  # The final temperature is the fluid temperature\n",
    "threshold_temperature = T_fluid - 0.5 #T_initial + 0.996 * (T_fluid - T_initial)   # 99% of the final temperature\n",
    "\n",
    "# Find the first time where the center temperature exceeds the threshold\n",
    "minute_reached = None\n",
    "for i, temp in enumerate(center_temperature):\n",
    "    if temp >= threshold_temperature:\n",
    "        minute_reached = time_points_minutes[i]\n",
    "        break\n",
    "\n",
    "# Display the result\n",
    "if minute_reached is not None:\n",
    "    print(f\"The center reaches -0.5°C of the final temperature at approximately {int(minute_reached)//60}h:{int(minute_reached)%60}m\")\n",
    "else:\n",
    "    print(\"The center does not reach 99% of the final temperature within the simulated time.\")\n",
    "\n",
    "# Optional: Mark the point on the plot\n",
    "plt.plot(time_points_minutes, center_temperature, label=\"Temperature at r = 0 (center)\")\n",
    "plt.axhline(threshold_temperature, color='r', linestyle='--', label=\"0.5°C below final temperature\")\n",
    "if minute_reached is not None:\n",
    "    plt.axvline(minute_reached, color='g', linestyle='--', label=f\"Reached at {minute_reached:.2f} min\")\n",
    "plt.xlabel(\"Time (minutes)\")\n",
    "plt.ylabel(\"Temperature (°C)\")\n",
    "plt.title(\"Temporal Variation of Temperature at the Center\")\n",
    "plt.legend()\n",
    "plt.grid()\n",
    "plt.show()"
   ]
  },
  {
   "cell_type": "code",
   "execution_count": 75,
   "metadata": {},
   "outputs": [],
   "source": [
    "Dref = 2/6 # 2 minutes for 6-log reduction\n",
    "Tref = 70 # Reference temperature in °C\n",
    "z = 7.5 # Z-value in °C\n",
    "\n",
    "# Initialize the cumulative total_sum array\n",
    "cumulative_sum = []\n",
    "\n",
    "# Initialize the running sum\n",
    "total_sum = 0\n",
    "\n",
    "# Loop through each temperature and calculate the contribution\n",
    "for T_i in center_temperature:\n",
    "    contribution = 10 ** ((T_i - Tref) / z)\n",
    "    total_sum += (1/Dref) * contribution\n",
    "    cumulative_sum.append(total_sum)  # Add the current total_sum to the array\n",
    "\n",
    "# Calculate the final LR\n",
    "LR = total_sum\n"
   ]
  },
  {
   "cell_type": "code",
   "execution_count": 4,
   "metadata": {},
   "outputs": [],
   "source": [
    "from models.solvers import LogReduction\n",
    "LR, cumulative_sum = LogReduction(center_temperature)"
   ]
  },
  {
   "cell_type": "code",
   "execution_count": null,
   "metadata": {},
   "outputs": [],
   "source": [
    "# Identify the point where cumulative sum exceeds 6\n",
    "threshold = 6\n",
    "time_to_exceed = next((i for i, value in enumerate(cumulative_sum) if value > threshold), None)\n",
    "\n",
    "# Plot the cumulative sum evolution\n",
    "plt.figure(figsize=(8, 6))\n",
    "plt.plot(time_points_minutes, cumulative_sum, marker='o', label='Cumulative Sum', color='orange')\n",
    "if time_to_exceed is not None:\n",
    "    plt.axvline(x=time_to_exceed + 1, color='red', linestyle='--', label=f'Reaches >6 at {(time_to_exceed + 1) // 60}h:{(time_to_exceed+1)%60}m')\n",
    "plt.axhline(y=threshold, color='green', linestyle='--', label='Threshold = 6')\n",
    "plt.title(\"Evolution of Cumulative Sum Over Time\")\n",
    "plt.xlabel(\"Time (Minutes)\")\n",
    "plt.ylabel(\"Cumulative Sum\")\n",
    "plt.legend()\n",
    "plt.grid(True)\n",
    "plt.show()"
   ]
  },
  {
   "cell_type": "code",
   "execution_count": null,
   "metadata": {},
   "outputs": [],
   "source": [
    "None / 60"
   ]
  },
  {
   "cell_type": "markdown",
   "metadata": {},
   "source": [
    "## Test packages"
   ]
  },
  {
   "cell_type": "code",
   "execution_count": 1,
   "metadata": {},
   "outputs": [],
   "source": [
    "from models.parameters import MeatSimulationParameters\n",
    "from models.solvers import SimulateMeat"
   ]
  },
  {
   "cell_type": "code",
   "execution_count": 2,
   "metadata": {},
   "outputs": [],
   "source": [
    "msp = MeatSimulationParameters()\n",
    "msp.define_meat_shape(\"slab\",thickness_mm=5)"
   ]
  },
  {
   "cell_type": "code",
   "execution_count": 6,
   "metadata": {},
   "outputs": [
    {
     "data": {
      "text/plain": [
       "4"
      ]
     },
     "execution_count": 6,
     "metadata": {},
     "output_type": "execute_result"
    }
   ],
   "source": [
    "msp.simulation_hours"
   ]
  },
  {
   "cell_type": "code",
   "execution_count": 3,
   "metadata": {},
   "outputs": [],
   "source": [
    "def _progress_callback (t,y):\n",
    "    \n",
    "    return 1"
   ]
  },
  {
   "cell_type": "code",
   "execution_count": 4,
   "metadata": {},
   "outputs": [
    {
     "ename": "KeyboardInterrupt",
     "evalue": "",
     "output_type": "error",
     "traceback": [
      "\u001b[1;31m---------------------------------------------------------------------------\u001b[0m",
      "\u001b[1;31mKeyboardInterrupt\u001b[0m                         Traceback (most recent call last)",
      "Cell \u001b[1;32mIn[4], line 1\u001b[0m\n\u001b[1;32m----> 1\u001b[0m \u001b[43mSimulateMeat\u001b[49m\u001b[43m(\u001b[49m\u001b[43mmsp\u001b[49m\u001b[43m,\u001b[49m\u001b[43mprogress_callback\u001b[49m\u001b[38;5;241;43m=\u001b[39;49m\u001b[43m_progress_callback\u001b[49m\u001b[43m)\u001b[49m\n",
      "File \u001b[1;32mc:\\Users\\montone alessio\\VSCode Projects-personal\\CookingForEngineers\\models\\solvers.py:53\u001b[0m, in \u001b[0;36mSimulateMeat\u001b[1;34m(msp, progress_callback)\u001b[0m\n\u001b[0;32m     50\u001b[0m     \u001b[38;5;28;01mreturn\u001b[39;00m dTdt\n\u001b[0;32m     52\u001b[0m \u001b[38;5;66;03m# Solve the PDE using SciPy's solve_ivp\u001b[39;00m\n\u001b[1;32m---> 53\u001b[0m solution \u001b[38;5;241m=\u001b[39m \u001b[43msolve_ivp\u001b[49m\u001b[43m(\u001b[49m\n\u001b[0;32m     54\u001b[0m \u001b[43m    \u001b[49m\u001b[43mheat_equation\u001b[49m\u001b[43m,\u001b[49m\u001b[43m                 \u001b[49m\u001b[38;5;66;43;03m# ODE function\u001b[39;49;00m\n\u001b[0;32m     55\u001b[0m \u001b[43m    \u001b[49m\u001b[43m(\u001b[49m\u001b[38;5;241;43m0\u001b[39;49m\u001b[43m,\u001b[49m\u001b[43m \u001b[49m\u001b[43mmsp\u001b[49m\u001b[38;5;241;43m.\u001b[39;49m\u001b[43mt_max\u001b[49m\u001b[43m)\u001b[49m\u001b[43m,\u001b[49m\u001b[43m                    \u001b[49m\u001b[38;5;66;43;03m# Time range\u001b[39;49;00m\n\u001b[0;32m     56\u001b[0m \u001b[43m    \u001b[49m\u001b[43mnp\u001b[49m\u001b[38;5;241;43m.\u001b[39;49m\u001b[43mfull\u001b[49m\u001b[43m(\u001b[49m\u001b[43mmsp\u001b[49m\u001b[38;5;241;43m.\u001b[39;49m\u001b[43mN\u001b[49m\u001b[43m,\u001b[49m\u001b[43m \u001b[49m\u001b[43mmsp\u001b[49m\u001b[38;5;241;43m.\u001b[39;49m\u001b[43mT_initial\u001b[49m\u001b[43m)\u001b[49m\u001b[43m,\u001b[49m\u001b[43m         \u001b[49m\u001b[38;5;66;43;03m# Initial condition (uniform temperature)\u001b[39;49;00m\n\u001b[0;32m     57\u001b[0m \u001b[43m    \u001b[49m\u001b[43mmethod\u001b[49m\u001b[38;5;241;43m=\u001b[39;49m\u001b[38;5;124;43m'\u001b[39;49m\u001b[38;5;124;43mRK45\u001b[39;49m\u001b[38;5;124;43m'\u001b[39;49m\u001b[43m,\u001b[49m\u001b[43m                 \u001b[49m\u001b[38;5;66;43;03m# Solver\u001b[39;49;00m\n\u001b[0;32m     58\u001b[0m \u001b[43m    \u001b[49m\u001b[43mt_eval\u001b[49m\u001b[38;5;241;43m=\u001b[39;49m\u001b[43mt\u001b[49m\u001b[43m,\u001b[49m\u001b[43m                       \u001b[49m\u001b[38;5;66;43;03m# Time points to evaluate\u001b[39;49;00m\n\u001b[0;32m     59\u001b[0m \u001b[43m    \u001b[49m\u001b[43mevents\u001b[49m\u001b[38;5;241;43m=\u001b[39;49m\u001b[43mprogress_callback\u001b[49m\n\u001b[0;32m     60\u001b[0m \u001b[43m\u001b[49m\u001b[43m)\u001b[49m\n\u001b[0;32m     62\u001b[0m \u001b[38;5;66;03m# Extract the solution\u001b[39;00m\n\u001b[0;32m     63\u001b[0m T_sol \u001b[38;5;241m=\u001b[39m solution\u001b[38;5;241m.\u001b[39my\n",
      "File \u001b[1;32mc:\\ProgramData\\miniforge3\\envs\\cfe\\Lib\\site-packages\\scipy\\integrate\\_ivp\\ivp.py:655\u001b[0m, in \u001b[0;36msolve_ivp\u001b[1;34m(fun, t_span, y0, method, t_eval, dense_output, events, vectorized, args, **options)\u001b[0m\n\u001b[0;32m    653\u001b[0m status \u001b[38;5;241m=\u001b[39m \u001b[38;5;28;01mNone\u001b[39;00m\n\u001b[0;32m    654\u001b[0m \u001b[38;5;28;01mwhile\u001b[39;00m status \u001b[38;5;129;01mis\u001b[39;00m \u001b[38;5;28;01mNone\u001b[39;00m:\n\u001b[1;32m--> 655\u001b[0m     message \u001b[38;5;241m=\u001b[39m \u001b[43msolver\u001b[49m\u001b[38;5;241;43m.\u001b[39;49m\u001b[43mstep\u001b[49m\u001b[43m(\u001b[49m\u001b[43m)\u001b[49m\n\u001b[0;32m    657\u001b[0m     \u001b[38;5;28;01mif\u001b[39;00m solver\u001b[38;5;241m.\u001b[39mstatus \u001b[38;5;241m==\u001b[39m \u001b[38;5;124m'\u001b[39m\u001b[38;5;124mfinished\u001b[39m\u001b[38;5;124m'\u001b[39m:\n\u001b[0;32m    658\u001b[0m         status \u001b[38;5;241m=\u001b[39m \u001b[38;5;241m0\u001b[39m\n",
      "File \u001b[1;32mc:\\ProgramData\\miniforge3\\envs\\cfe\\Lib\\site-packages\\scipy\\integrate\\_ivp\\base.py:197\u001b[0m, in \u001b[0;36mOdeSolver.step\u001b[1;34m(self)\u001b[0m\n\u001b[0;32m    195\u001b[0m \u001b[38;5;28;01melse\u001b[39;00m:\n\u001b[0;32m    196\u001b[0m     t \u001b[38;5;241m=\u001b[39m \u001b[38;5;28mself\u001b[39m\u001b[38;5;241m.\u001b[39mt\n\u001b[1;32m--> 197\u001b[0m     success, message \u001b[38;5;241m=\u001b[39m \u001b[38;5;28;43mself\u001b[39;49m\u001b[38;5;241;43m.\u001b[39;49m\u001b[43m_step_impl\u001b[49m\u001b[43m(\u001b[49m\u001b[43m)\u001b[49m\n\u001b[0;32m    199\u001b[0m     \u001b[38;5;28;01mif\u001b[39;00m \u001b[38;5;129;01mnot\u001b[39;00m success:\n\u001b[0;32m    200\u001b[0m         \u001b[38;5;28mself\u001b[39m\u001b[38;5;241m.\u001b[39mstatus \u001b[38;5;241m=\u001b[39m \u001b[38;5;124m'\u001b[39m\u001b[38;5;124mfailed\u001b[39m\u001b[38;5;124m'\u001b[39m\n",
      "File \u001b[1;32mc:\\ProgramData\\miniforge3\\envs\\cfe\\Lib\\site-packages\\scipy\\integrate\\_ivp\\rk.py:147\u001b[0m, in \u001b[0;36mRungeKutta._step_impl\u001b[1;34m(self)\u001b[0m\n\u001b[0;32m    144\u001b[0m y_new, f_new \u001b[38;5;241m=\u001b[39m rk_step(\u001b[38;5;28mself\u001b[39m\u001b[38;5;241m.\u001b[39mfun, t, y, \u001b[38;5;28mself\u001b[39m\u001b[38;5;241m.\u001b[39mf, h, \u001b[38;5;28mself\u001b[39m\u001b[38;5;241m.\u001b[39mA,\n\u001b[0;32m    145\u001b[0m                        \u001b[38;5;28mself\u001b[39m\u001b[38;5;241m.\u001b[39mB, \u001b[38;5;28mself\u001b[39m\u001b[38;5;241m.\u001b[39mC, \u001b[38;5;28mself\u001b[39m\u001b[38;5;241m.\u001b[39mK)\n\u001b[0;32m    146\u001b[0m scale \u001b[38;5;241m=\u001b[39m atol \u001b[38;5;241m+\u001b[39m np\u001b[38;5;241m.\u001b[39mmaximum(np\u001b[38;5;241m.\u001b[39mabs(y), np\u001b[38;5;241m.\u001b[39mabs(y_new)) \u001b[38;5;241m*\u001b[39m rtol\n\u001b[1;32m--> 147\u001b[0m error_norm \u001b[38;5;241m=\u001b[39m \u001b[38;5;28;43mself\u001b[39;49m\u001b[38;5;241;43m.\u001b[39;49m\u001b[43m_estimate_error_norm\u001b[49m\u001b[43m(\u001b[49m\u001b[38;5;28;43mself\u001b[39;49m\u001b[38;5;241;43m.\u001b[39;49m\u001b[43mK\u001b[49m\u001b[43m,\u001b[49m\u001b[43m \u001b[49m\u001b[43mh\u001b[49m\u001b[43m,\u001b[49m\u001b[43m \u001b[49m\u001b[43mscale\u001b[49m\u001b[43m)\u001b[49m\n\u001b[0;32m    149\u001b[0m \u001b[38;5;28;01mif\u001b[39;00m error_norm \u001b[38;5;241m<\u001b[39m \u001b[38;5;241m1\u001b[39m:\n\u001b[0;32m    150\u001b[0m     \u001b[38;5;28;01mif\u001b[39;00m error_norm \u001b[38;5;241m==\u001b[39m \u001b[38;5;241m0\u001b[39m:\n",
      "File \u001b[1;32mc:\\ProgramData\\miniforge3\\envs\\cfe\\Lib\\site-packages\\scipy\\integrate\\_ivp\\rk.py:109\u001b[0m, in \u001b[0;36mRungeKutta._estimate_error_norm\u001b[1;34m(self, K, h, scale)\u001b[0m\n\u001b[0;32m    108\u001b[0m \u001b[38;5;28;01mdef\u001b[39;00m\u001b[38;5;250m \u001b[39m\u001b[38;5;21m_estimate_error_norm\u001b[39m(\u001b[38;5;28mself\u001b[39m, K, h, scale):\n\u001b[1;32m--> 109\u001b[0m     \u001b[38;5;28;01mreturn\u001b[39;00m \u001b[43mnorm\u001b[49m\u001b[43m(\u001b[49m\u001b[38;5;28;43mself\u001b[39;49m\u001b[38;5;241;43m.\u001b[39;49m\u001b[43m_estimate_error\u001b[49m\u001b[43m(\u001b[49m\u001b[43mK\u001b[49m\u001b[43m,\u001b[49m\u001b[43m \u001b[49m\u001b[43mh\u001b[49m\u001b[43m)\u001b[49m\u001b[43m \u001b[49m\u001b[38;5;241;43m/\u001b[39;49m\u001b[43m \u001b[49m\u001b[43mscale\u001b[49m\u001b[43m)\u001b[49m\n",
      "File \u001b[1;32mc:\\ProgramData\\miniforge3\\envs\\cfe\\Lib\\site-packages\\scipy\\integrate\\_ivp\\common.py:65\u001b[0m, in \u001b[0;36mnorm\u001b[1;34m(x)\u001b[0m\n\u001b[0;32m     63\u001b[0m \u001b[38;5;28;01mdef\u001b[39;00m\u001b[38;5;250m \u001b[39m\u001b[38;5;21mnorm\u001b[39m(x):\n\u001b[0;32m     64\u001b[0m \u001b[38;5;250m    \u001b[39m\u001b[38;5;124;03m\"\"\"Compute RMS norm.\"\"\"\u001b[39;00m\n\u001b[1;32m---> 65\u001b[0m     \u001b[38;5;28;01mreturn\u001b[39;00m \u001b[43mnp\u001b[49m\u001b[38;5;241;43m.\u001b[39;49m\u001b[43mlinalg\u001b[49m\u001b[38;5;241;43m.\u001b[39;49m\u001b[43mnorm\u001b[49m\u001b[43m(\u001b[49m\u001b[43mx\u001b[49m\u001b[43m)\u001b[49m \u001b[38;5;241m/\u001b[39m x\u001b[38;5;241m.\u001b[39msize \u001b[38;5;241m*\u001b[39m\u001b[38;5;241m*\u001b[39m \u001b[38;5;241m0.5\u001b[39m\n",
      "File \u001b[1;32mc:\\ProgramData\\miniforge3\\envs\\cfe\\Lib\\site-packages\\numpy\\linalg\\_linalg.py:2744\u001b[0m, in \u001b[0;36mnorm\u001b[1;34m(x, ord, axis, keepdims)\u001b[0m\n\u001b[0;32m   2742\u001b[0m     sqnorm \u001b[38;5;241m=\u001b[39m x_real\u001b[38;5;241m.\u001b[39mdot(x_real) \u001b[38;5;241m+\u001b[39m x_imag\u001b[38;5;241m.\u001b[39mdot(x_imag)\n\u001b[0;32m   2743\u001b[0m \u001b[38;5;28;01melse\u001b[39;00m:\n\u001b[1;32m-> 2744\u001b[0m     sqnorm \u001b[38;5;241m=\u001b[39m \u001b[43mx\u001b[49m\u001b[38;5;241;43m.\u001b[39;49m\u001b[43mdot\u001b[49m\u001b[43m(\u001b[49m\u001b[43mx\u001b[49m\u001b[43m)\u001b[49m\n\u001b[0;32m   2745\u001b[0m ret \u001b[38;5;241m=\u001b[39m sqrt(sqnorm)\n\u001b[0;32m   2746\u001b[0m \u001b[38;5;28;01mif\u001b[39;00m keepdims:\n",
      "\u001b[1;31mKeyboardInterrupt\u001b[0m: "
     ]
    }
   ],
   "source": [
    "SimulateMeat(msp,progress_callback=_progress_callback)"
   ]
  },
  {
   "cell_type": "code",
   "execution_count": 7,
   "metadata": {},
   "outputs": [],
   "source": [
    "from datetime import datetime\n",
    "start_time = datetime.now()\n",
    "\n"
   ]
  },
  {
   "cell_type": "code",
   "execution_count": 8,
   "metadata": {},
   "outputs": [],
   "source": [
    "elapsed_time = datetime.now() - start_time\n",
    "remaining_time = elapsed_time / (60+60) * (3600 / 60)"
   ]
  },
  {
   "cell_type": "code",
   "execution_count": 10,
   "metadata": {},
   "outputs": [
    {
     "data": {
      "text/plain": [
       "datetime.timedelta"
      ]
     },
     "execution_count": 10,
     "metadata": {},
     "output_type": "execute_result"
    }
   ],
   "source": [
    "type(remaining_time)"
   ]
  }
 ],
 "metadata": {
  "kernelspec": {
   "display_name": "cfe",
   "language": "python",
   "name": "python3"
  },
  "language_info": {
   "codemirror_mode": {
    "name": "ipython",
    "version": 3
   },
   "file_extension": ".py",
   "mimetype": "text/x-python",
   "name": "python",
   "nbconvert_exporter": "python",
   "pygments_lexer": "ipython3",
   "version": "3.13.1"
  }
 },
 "nbformat": 4,
 "nbformat_minor": 2
}
