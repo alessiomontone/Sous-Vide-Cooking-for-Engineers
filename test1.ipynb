{
 "cells": [
  {
   "cell_type": "markdown",
   "metadata": {},
   "source": [
    "## Unified version"
   ]
  },
  {
   "cell_type": "code",
   "execution_count": null,
   "metadata": {},
   "outputs": [],
   "source": [
    "import numpy as np\n",
    "import matplotlib.pyplot as plt\n",
    "from scipy.integrate import solve_ivp\n",
    "\n",
    "# Parameters\n",
    "Thickness = 50e-3  # Thickness of the meat in the larger point in the meat (in m)\n",
    "Beta = 1.0      # Coefficient for the geometry term (set to 0 for slab, 1 for cylinder and 2 for sphere, 1.25 for cube)\n",
    "T_fluid = 58.0  # Fluid temperature in °C\n",
    "T_initial = 5.0  # Initial temperature of the cylinder in °C\n",
    "simulation_hours = 7  # Simulation time in hours\n",
    "alpha = 1.11e-7  # Thermal diffusivity in m^2/s (example for steel)\n",
    "k = 0.48         # Thermal conductivity in W/(m·K) (Sanz et al., thermal conductivity of beef)\n",
    "h = 95          # Convective heat transfer coefficient in W/(m^2·K)\n",
    "N = 30          # Number of radial points\n",
    "R = Thickness / 2  # Radius of the cylinder (10 cm diameter = 0.05 m radius)\n",
    "t_max = 3600*simulation_hours # Maximum simulation time in seconds\n",
    "dt = 60         # Time step in seconds\n",
    "\n",
    "dr = R / (N - 1)  # Radial step size\n",
    "r = np.linspace(0, R, N)  # Radial points from 0 to R\n",
    "t = np.linspace(0, t_max, int(t_max/dt)+1)  # Time points\n",
    "\n",
    "# Define the heat equation with convective boundary conditions\n",
    "def heat_equation(t, T):\n",
    "    dTdt = np.zeros_like(T)\n",
    "    \n",
    "    # Symmetry condition at r = 0\n",
    "    #dTdt[0] = alpha * (T[1] - T[0]) / dr**2\n",
    "    dTdt[0] = alpha * (2 / dr**2) * (T[1] - T[0])\n",
    "\n",
    "    # Interior points\n",
    "    for i in range(1, N - 1):\n",
    "        d2T_dr2 = (T[i+1] - 2*T[i] + T[i-1]) / dr**2\n",
    "        radial_term = (Beta / r[i]) * (T[i+1] - T[i-1]) / (2 * dr) if r[i] != 0 else 0\n",
    "        dTdt[i] = alpha * (d2T_dr2 + radial_term)\n",
    "    \n",
    "    # Convective boundary condition at the outer radius\n",
    "    dTdt[-1] = alpha * (1 / dr**2) * (T[-2] - T[-1] - (dr * h / k) * (T[-1] - T_fluid))\n",
    "    \n",
    "    return dTdt\n",
    "\n",
    "# Solve the PDE using SciPy's solve_ivp\n",
    "solution = solve_ivp(\n",
    "    heat_equation,                 # ODE function\n",
    "    (0, t_max),                    # Time range\n",
    "    np.full(N, T_initial),         # Initial condition (uniform temperature)\n",
    "    method='RK45',                 # Solver\n",
    "    t_eval=t                       # Time points to evaluate\n",
    ")\n",
    "\n",
    "# Extract the solution\n",
    "T_sol = solution.y\n",
    "time_points = solution.t\n",
    "\n",
    "# Plot the results\n",
    "for i in range(0, len(time_points), 10):  # Plot every 20th time point\n",
    "    plt.plot(r, T_sol[:, i], label=f\"t = {(time_points[i])/60:.0f} m\" if i <100 else None)\n",
    "\n",
    "plt.xlabel(\"Radius (m)\")\n",
    "plt.ylabel(\"Temperature (°C)\")\n",
    "plt.title(\"Radial Temperature Evolution in a Heated Body\")\n",
    "plt.legend()\n",
    "plt.grid()\n"
   ]
  },
  {
   "cell_type": "code",
   "execution_count": null,
   "metadata": {},
   "outputs": [],
   "source": [
    "# Extract the temperature at the center of the cylinder (r = 0)\n",
    "center_temperature = T_sol[0, :]  # First row corresponds to T[0] (r = 0)\n",
    "time_points_minutes = time_points / 60  # Convert seconds to minutes\n",
    "\n",
    "# Define 99% of the final temperature\n",
    "final_temperature = T_fluid  # The final temperature is the fluid temperature\n",
    "threshold_temperature = T_fluid - 0.5 #T_initial + 0.996 * (T_fluid - T_initial)   # 99% of the final temperature\n",
    "\n",
    "# Find the first time where the center temperature exceeds the threshold\n",
    "minute_reached = None\n",
    "for i, temp in enumerate(center_temperature):\n",
    "    if temp >= threshold_temperature:\n",
    "        minute_reached = time_points_minutes[i]\n",
    "        break\n",
    "\n",
    "# Display the result\n",
    "if minute_reached is not None:\n",
    "    print(f\"The center reaches -0.5°C of the final temperature at approximately {int(minute_reached)//60}h:{int(minute_reached)%60}m\")\n",
    "else:\n",
    "    print(\"The center does not reach 99% of the final temperature within the simulated time.\")\n",
    "\n",
    "# Optional: Mark the point on the plot\n",
    "plt.plot(time_points_minutes, center_temperature, label=\"Temperature at r = 0 (center)\")\n",
    "plt.axhline(threshold_temperature, color='r', linestyle='--', label=\"0.5°C below final temperature\")\n",
    "if minute_reached is not None:\n",
    "    plt.axvline(minute_reached, color='g', linestyle='--', label=f\"Reached at {minute_reached:.2f} min\")\n",
    "plt.xlabel(\"Time (minutes)\")\n",
    "plt.ylabel(\"Temperature (°C)\")\n",
    "plt.title(\"Temporal Variation of Temperature at the Center\")\n",
    "plt.legend()\n",
    "plt.grid()\n",
    "plt.show()"
   ]
  },
  {
   "cell_type": "code",
   "execution_count": 75,
   "metadata": {},
   "outputs": [],
   "source": [
    "Dref = 2/6 # 2 minutes for 6-log reduction\n",
    "Tref = 70 # Reference temperature in °C\n",
    "z = 7.5 # Z-value in °C\n",
    "\n",
    "# Initialize the cumulative total_sum array\n",
    "cumulative_sum = []\n",
    "\n",
    "# Initialize the running sum\n",
    "total_sum = 0\n",
    "\n",
    "# Loop through each temperature and calculate the contribution\n",
    "for T_i in center_temperature:\n",
    "    contribution = 10 ** ((T_i - Tref) / z)\n",
    "    total_sum += (1/Dref) * contribution\n",
    "    cumulative_sum.append(total_sum)  # Add the current total_sum to the array\n",
    "\n",
    "# Calculate the final LR\n",
    "LR = total_sum\n"
   ]
  },
  {
   "cell_type": "code",
   "execution_count": 4,
   "metadata": {},
   "outputs": [],
   "source": [
    "from models.solvers import LogReduction\n",
    "LR, cumulative_sum = LogReduction(center_temperature)"
   ]
  },
  {
   "cell_type": "code",
   "execution_count": null,
   "metadata": {},
   "outputs": [],
   "source": [
    "# Identify the point where cumulative sum exceeds 6\n",
    "threshold = 6\n",
    "time_to_exceed = next((i for i, value in enumerate(cumulative_sum) if value > threshold), None)\n",
    "\n",
    "# Plot the cumulative sum evolution\n",
    "plt.figure(figsize=(8, 6))\n",
    "plt.plot(time_points_minutes, cumulative_sum, marker='o', label='Cumulative Sum', color='orange')\n",
    "if time_to_exceed is not None:\n",
    "    plt.axvline(x=time_to_exceed + 1, color='red', linestyle='--', label=f'Reaches >6 at {(time_to_exceed + 1) // 60}h:{(time_to_exceed+1)%60}m')\n",
    "plt.axhline(y=threshold, color='green', linestyle='--', label='Threshold = 6')\n",
    "plt.title(\"Evolution of Cumulative Sum Over Time\")\n",
    "plt.xlabel(\"Time (Minutes)\")\n",
    "plt.ylabel(\"Cumulative Sum\")\n",
    "plt.legend()\n",
    "plt.grid(True)\n",
    "plt.show()"
   ]
  },
  {
   "cell_type": "code",
   "execution_count": null,
   "metadata": {},
   "outputs": [],
   "source": []
  },
  {
   "cell_type": "markdown",
   "metadata": {},
   "source": [
    "## Test packages"
   ]
  },
  {
   "cell_type": "code",
   "execution_count": 1,
   "metadata": {},
   "outputs": [],
   "source": [
    "from models.parameters import MeatSimulationParameters\n",
    "from models.solvers import SimulateMeat"
   ]
  },
  {
   "cell_type": "code",
   "execution_count": 2,
   "metadata": {},
   "outputs": [],
   "source": [
    "msp = MeatSimulationParameters()"
   ]
  },
  {
   "cell_type": "code",
   "execution_count": 5,
   "metadata": {},
   "outputs": [],
   "source": [
    "alphas = [1.11e-7, 1.20e-7, 1.30e-7]"
   ]
  },
  {
   "cell_type": "code",
   "execution_count": 6,
   "metadata": {},
   "outputs": [],
   "source": [
    "for a in alphas:\n",
    "    msp.alpha = a\n",
    "    SimulateMeat(msp)"
   ]
  },
  {
   "cell_type": "code",
   "execution_count": null,
   "metadata": {},
   "outputs": [],
   "source": []
  }
 ],
 "metadata": {
  "kernelspec": {
   "display_name": "cfe",
   "language": "python",
   "name": "python3"
  },
  "language_info": {
   "codemirror_mode": {
    "name": "ipython",
    "version": 3
   },
   "file_extension": ".py",
   "mimetype": "text/x-python",
   "name": "python",
   "nbconvert_exporter": "python",
   "pygments_lexer": "ipython3",
   "version": "3.9.21"
  }
 },
 "nbformat": 4,
 "nbformat_minor": 2
}
