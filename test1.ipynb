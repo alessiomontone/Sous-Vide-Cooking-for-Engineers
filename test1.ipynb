{
 "cells": [
  {
   "cell_type": "markdown",
   "metadata": {},
   "source": [
    "## Unified version"
   ]
  },
  {
   "cell_type": "code",
   "execution_count": null,
   "metadata": {},
   "outputs": [],
   "source": [
    "import numpy as np\n",
    "import matplotlib.pyplot as plt\n",
    "from scipy.integrate import solve_ivp\n",
    "\n",
    "# Parameters\n",
    "Thickness = 50e-3  # Thickness of the meat in the larger point in the meat (in m)\n",
    "Beta = 1.0      # Coefficient for the geometry term (set to 0 for slab, 1 for cylinder and 2 for sphere, 1.25 for cube)\n",
    "T_fluid = 58.0  # Fluid temperature in °C\n",
    "T_initial = 5.0  # Initial temperature of the cylinder in °C\n",
    "simulation_hours = 7  # Simulation time in hours\n",
    "alpha = 1.11e-7  # Thermal diffusivity in m^2/s (example for steel)\n",
    "k = 0.48         # Thermal conductivity in W/(m·K) (Sanz et al., thermal conductivity of beef)\n",
    "h = 95          # Convective heat transfer coefficient in W/(m^2·K)\n",
    "N = 30          # Number of radial points\n",
    "R = Thickness / 2  # Radius of the cylinder (10 cm diameter = 0.05 m radius)\n",
    "t_max = 3600*simulation_hours # Maximum simulation time in seconds\n",
    "dt = 60         # Time step in seconds\n",
    "\n",
    "dr = R / (N - 1)  # Radial step size\n",
    "r = np.linspace(0, R, N)  # Radial points from 0 to R\n",
    "t = np.linspace(0, t_max, int(t_max/dt)+1)  # Time points\n",
    "\n",
    "# Define the heat equation with convective boundary conditions\n",
    "def heat_equation(t, T):\n",
    "    dTdt = np.zeros_like(T)\n",
    "    \n",
    "    # Symmetry condition at r = 0\n",
    "    #dTdt[0] = alpha * (T[1] - T[0]) / dr**2\n",
    "    dTdt[0] = alpha * (2 / dr**2) * (T[1] - T[0])\n",
    "\n",
    "    # Interior points\n",
    "    for i in range(1, N - 1):\n",
    "        d2T_dr2 = (T[i+1] - 2*T[i] + T[i-1]) / dr**2\n",
    "        radial_term = (Beta / r[i]) * (T[i+1] - T[i-1]) / (2 * dr) if r[i] != 0 else 0\n",
    "        dTdt[i] = alpha * (d2T_dr2 + radial_term)\n",
    "    \n",
    "    # Convective boundary condition at the outer radius\n",
    "    dTdt[-1] = alpha * (1 / dr**2) * (T[-2] - T[-1] - (dr * h / k) * (T[-1] - T_fluid))\n",
    "    \n",
    "    return dTdt\n",
    "\n",
    "# Solve the PDE using SciPy's solve_ivp\n",
    "solution = solve_ivp(\n",
    "    heat_equation,                 # ODE function\n",
    "    (0, t_max),                    # Time range\n",
    "    np.full(N, T_initial),         # Initial condition (uniform temperature)\n",
    "    method='RK45',                 # Solver\n",
    "    t_eval=t                       # Time points to evaluate\n",
    ")\n",
    "\n",
    "# Extract the solution\n",
    "T_sol = solution.y\n",
    "time_points = solution.t\n",
    "\n",
    "# Plot the results\n",
    "for i in range(0, len(time_points), 10):  # Plot every 20th time point\n",
    "    plt.plot(r, T_sol[:, i], label=f\"t = {(time_points[i])/60:.0f} m\" if i <100 else None)\n",
    "\n",
    "plt.xlabel(\"Radius (m)\")\n",
    "plt.ylabel(\"Temperature (°C)\")\n",
    "plt.title(\"Radial Temperature Evolution in a Heated Body\")\n",
    "plt.legend()\n",
    "plt.grid()\n"
   ]
  },
  {
   "cell_type": "code",
   "execution_count": null,
   "metadata": {},
   "outputs": [],
   "source": [
    "# Extract the temperature at the center of the cylinder (r = 0)\n",
    "center_temperature = T_sol[0, :]  # First row corresponds to T[0] (r = 0)\n",
    "time_points_minutes = time_points / 60  # Convert seconds to minutes\n",
    "\n",
    "# Define 99% of the final temperature\n",
    "final_temperature = T_fluid  # The final temperature is the fluid temperature\n",
    "threshold_temperature = T_fluid - 0.5 #T_initial + 0.996 * (T_fluid - T_initial)   # 99% of the final temperature\n",
    "\n",
    "# Find the first time where the center temperature exceeds the threshold\n",
    "minute_reached = None\n",
    "for i, temp in enumerate(center_temperature):\n",
    "    if temp >= threshold_temperature:\n",
    "        minute_reached = time_points_minutes[i]\n",
    "        break\n",
    "\n",
    "# Display the result\n",
    "if minute_reached is not None:\n",
    "    print(f\"The center reaches -0.5°C of the final temperature at approximately {int(minute_reached)//60}h:{int(minute_reached)%60}m\")\n",
    "else:\n",
    "    print(\"The center does not reach 99% of the final temperature within the simulated time.\")\n",
    "\n",
    "# Optional: Mark the point on the plot\n",
    "plt.plot(time_points_minutes, center_temperature, label=\"Temperature at r = 0 (center)\")\n",
    "plt.axhline(threshold_temperature, color='r', linestyle='--', label=\"0.5°C below final temperature\")\n",
    "if minute_reached is not None:\n",
    "    plt.axvline(minute_reached, color='g', linestyle='--', label=f\"Reached at {minute_reached:.2f} min\")\n",
    "plt.xlabel(\"Time (minutes)\")\n",
    "plt.ylabel(\"Temperature (°C)\")\n",
    "plt.title(\"Temporal Variation of Temperature at the Center\")\n",
    "plt.legend()\n",
    "plt.grid()\n",
    "plt.show()"
   ]
  },
  {
   "cell_type": "code",
   "execution_count": 75,
   "metadata": {},
   "outputs": [],
   "source": [
    "Dref = 2/6 # 2 minutes for 6-log reduction\n",
    "Tref = 70 # Reference temperature in °C\n",
    "z = 7.5 # Z-value in °C\n",
    "\n",
    "# Initialize the cumulative total_sum array\n",
    "cumulative_sum = []\n",
    "\n",
    "# Initialize the running sum\n",
    "total_sum = 0\n",
    "\n",
    "# Loop through each temperature and calculate the contribution\n",
    "for T_i in center_temperature:\n",
    "    contribution = 10 ** ((T_i - Tref) / z)\n",
    "    total_sum += (1/Dref) * contribution\n",
    "    cumulative_sum.append(total_sum)  # Add the current total_sum to the array\n",
    "\n",
    "# Calculate the final LR\n",
    "LR = total_sum\n"
   ]
  },
  {
   "cell_type": "code",
   "execution_count": 4,
   "metadata": {},
   "outputs": [],
   "source": [
    "from models.solvers import LogReduction\n",
    "LR, cumulative_sum = LogReduction(center_temperature)"
   ]
  },
  {
   "cell_type": "code",
   "execution_count": null,
   "metadata": {},
   "outputs": [],
   "source": [
    "# Identify the point where cumulative sum exceeds 6\n",
    "threshold = 6\n",
    "time_to_exceed = next((i for i, value in enumerate(cumulative_sum) if value > threshold), None)\n",
    "\n",
    "# Plot the cumulative sum evolution\n",
    "plt.figure(figsize=(8, 6))\n",
    "plt.plot(time_points_minutes, cumulative_sum, marker='o', label='Cumulative Sum', color='orange')\n",
    "if time_to_exceed is not None:\n",
    "    plt.axvline(x=time_to_exceed + 1, color='red', linestyle='--', label=f'Reaches >6 at {(time_to_exceed + 1) // 60}h:{(time_to_exceed+1)%60}m')\n",
    "plt.axhline(y=threshold, color='green', linestyle='--', label='Threshold = 6')\n",
    "plt.title(\"Evolution of Cumulative Sum Over Time\")\n",
    "plt.xlabel(\"Time (Minutes)\")\n",
    "plt.ylabel(\"Cumulative Sum\")\n",
    "plt.legend()\n",
    "plt.grid(True)\n",
    "plt.show()"
   ]
  },
  {
   "cell_type": "code",
   "execution_count": null,
   "metadata": {},
   "outputs": [],
   "source": [
    "None / 60"
   ]
  },
  {
   "cell_type": "markdown",
   "metadata": {},
   "source": [
    "## Test packages"
   ]
  },
  {
   "cell_type": "code",
   "execution_count": 1,
   "metadata": {},
   "outputs": [],
   "source": [
    "from models.parameters import MeatSimulationParameters\n",
    "from models.solvers import SimulateMeat"
   ]
  },
  {
   "cell_type": "code",
   "execution_count": 2,
   "metadata": {},
   "outputs": [],
   "source": [
    "msp = MeatSimulationParameters()\n",
    "msp.define_meat_shape(\"slab\",thickness_mm=5)"
   ]
  },
  {
   "cell_type": "code",
   "execution_count": 28,
   "metadata": {},
   "outputs": [],
   "source": [
    "import pandas as pd\n",
    "import numpy as np\n",
    "import matplotlib\n",
    "import matplotlib.pyplot as plt\n",
    "from models.solvers import ExtrapolateHeatingCurve_2exp, LogReduction\n",
    "from models.helpers import MeasurementFormat, seconds_to_hhmm\n",
    "from models.parameters import LOG_REDUCTION_MIN_THRESHOLD\n",
    "\n",
    "data = {\n",
    "    MeasurementFormat.TIMESTAMP: [0,24, 67, 103, 120, 150],\n",
    "    MeasurementFormat.TEMPERATURE: [5, 34, 54, 55, 57, 58]\n",
    "}\n",
    "df = pd.DataFrame(data)"
   ]
  },
  {
   "cell_type": "code",
   "execution_count": 29,
   "metadata": {},
   "outputs": [],
   "source": [
    "l = ExtrapolateHeatingCurve_2exp(df,58.0)"
   ]
  },
  {
   "cell_type": "code",
   "execution_count": 33,
   "metadata": {},
   "outputs": [],
   "source": [
    "# -------------------------------------------------------------------\n",
    "# 4) Evaluate the fitted curve on a smooth time array\n",
    "# -------------------------------------------------------------------\n",
    "t_fit = np.arange(max(df[MeasurementFormat.TIMESTAMP])+120)\n",
    "T_fit = l(t_fit)"
   ]
  },
  {
   "cell_type": "code",
   "execution_count": 34,
   "metadata": {},
   "outputs": [],
   "source": [
    "LR_total, LR_in_time, safety_second = LogReduction(center_temperature=T_fit, dt=60)"
   ]
  },
  {
   "cell_type": "code",
   "execution_count": 35,
   "metadata": {},
   "outputs": [
    {
     "data": {
      "text/plain": [
       "10560"
      ]
     },
     "execution_count": 35,
     "metadata": {},
     "output_type": "execute_result"
    }
   ],
   "source": [
    "safety_second"
   ]
  },
  {
   "cell_type": "code",
   "execution_count": 22,
   "metadata": {},
   "outputs": [
    {
     "data": {
      "text/plain": [
       "np.float64(10.16775367445378)"
      ]
     },
     "execution_count": 22,
     "metadata": {},
     "output_type": "execute_result"
    }
   ],
   "source": [
    "LR_total"
   ]
  },
  {
   "cell_type": "code",
   "execution_count": 23,
   "metadata": {},
   "outputs": [
    {
     "data": {
      "text/plain": [
       "[np.float64(6.253258929710389e-09),\n",
       " np.float64(2.0301046129616938e-08),\n",
       " np.float64(5.0627118583415216e-08),\n",
       " np.float64(1.1366122981213811e-07),\n",
       " np.float64(2.400445656820443e-07),\n",
       " np.float64(4.849075890137159e-07),\n",
       " np.float64(9.44108977541828e-07),\n",
       " np.float64(1.77898468352595e-06),\n",
       " np.float64(3.252781232272165e-06),\n",
       " np.float64(5.782526347842605e-06),\n",
       " np.float64(1.001053148252463e-05),\n",
       " np.float64(1.689992143574851e-05),\n",
       " np.float64(2.7858443477026498e-05),\n",
       " np.float64(4.48942364107269e-05),\n",
       " np.float64(7.080618584569086e-05),\n",
       " np.float64(0.0001094099490491971),\n",
       " np.float64(0.00016579874958561606),\n",
       " np.float64(0.00024663572310594056),\n",
       " np.float64(0.00036047209545840824),\n",
       " np.float64(0.0005180829828366389),\n",
       " np.float64(0.0007328103276230743),\n",
       " np.float64(0.0010209006241578852),\n",
       " np.float64(0.001401823820089633),\n",
       " np.float64(0.0018985592301207263),\n",
       " np.float64(0.0025378345405654423),\n",
       " np.float64(0.003350305021766703),\n",
       " np.float64(0.004370661844627871),\n",
       " np.float64(0.0056376608053919555),\n",
       " np.float64(0.00719406564446951),\n",
       " np.float64(0.009086503318376578),\n",
       " np.float64(0.011365231855888419),\n",
       " np.float64(0.014083824612893418),\n",
       " np.float64(0.017298777666782172),\n",
       " np.float64(0.02106904962170811),\n",
       " np.float64(0.025455545128125485),\n",
       " np.float64(0.030520554890210282),\n",
       " np.float64(0.03632716581826909),\n",
       " np.float64(0.0429386552904505),\n",
       " np.float64(0.05041788325925613),\n",
       " np.float64(0.05882669523692187),\n",
       " np.float64(0.06822534809916113),\n",
       " np.float64(0.07867196924748669),\n",
       " np.float64(0.09022205805742597),\n",
       " np.float64(0.10292803680173533),\n",
       " np.float64(0.1168388564554745),\n",
       " np.float64(0.1319996610347447),\n",
       " np.float64(0.1484515124523103),\n",
       " np.float64(0.16623117633774),\n",
       " np.float64(0.18537096790089813),\n",
       " np.float64(0.2058986557373546),\n",
       " np.float64(0.2278374204935451),\n",
       " np.float64(0.25120586452989896),\n",
       " np.float64(0.27601806813573365),\n",
       " np.float64(0.30228368744850903),\n",
       " np.float64(0.3300080889958101),\n",
       " np.float64(0.35919251569209165),\n",
       " np.float64(0.38983427916310587),\n",
       " np.float64(0.4219269734179629),\n",
       " np.float64(0.4554607051212296),\n",
       " np.float64(0.4904223360157665),\n",
       " np.float64(0.5267957333930753),\n",
       " np.float64(0.5645620248855955),\n",
       " np.float64(0.6036998542505332),\n",
       " np.float64(0.6441856352153759),\n",
       " np.float64(0.6859938008512767),\n",
       " np.float64(0.7290970463239721),\n",
       " np.float64(0.7734665632365983),\n",
       " np.float64(0.8190722641201591),\n",
       " np.float64(0.8658829959422715),\n",
       " np.float64(0.9138667417912993),\n",
       " np.float64(0.9629908101501855),\n",
       " np.float64(1.013222011402149),\n",
       " np.float64(1.064526821409606),\n",
       " np.float64(1.1168715321793208),\n",
       " np.float64(1.1702223897724644),\n",
       " np.float64(1.2245457197397493),\n",
       " np.float64(1.279808040461104),\n",
       " np.float64(1.3359761648485107),\n",
       " np.float64(1.3930172909317386),\n",
       " np.float64(1.4508990818918102),\n",
       " np.float64(1.5095897361381148),\n",
       " np.float64(1.5690580480440137),\n",
       " np.float64(1.6292734599643044),\n",
       " np.float64(1.6902061061576532),\n",
       " np.float64(1.751826849229536),\n",
       " np.float64(1.8141073096976692),\n",
       " np.float64(1.8770198892635714),\n",
       " np.float64(1.9405377883517965),\n",
       " np.float64(2.00463501845346),\n",
       " np.float64(2.069286409783743),\n",
       " np.float64(2.1344676147347474),\n",
       " np.float64(2.200155107576046),\n",
       " np.float64(2.266326180825924),\n",
       " np.float64(2.332958938687122),\n",
       " np.float64(2.4000322879121527),\n",
       " np.float64(2.4675259264352465),\n",
       " np.float64(2.535420330080902),\n",
       " np.float64(2.6036967376330296),\n",
       " np.float64(2.6723371345238855),\n",
       " np.float64(2.7413242353784946),\n",
       " np.float64(2.810641465628074),\n",
       " np.float64(2.880272942385171),\n",
       " np.float64(2.950203454753753),\n",
       " np.float64(3.020418443729355),\n",
       " np.float64(3.0909039818276023),\n",
       " np.float64(3.161646752563862),\n",
       " np.float64(3.2326340298924707),\n",
       " np.float64(3.3038536577008335),\n",
       " np.float64(3.375294029441657),\n",
       " np.float64(3.4469440679755876),\n",
       " np.float64(3.518793205686538),\n",
       " np.float64(3.5908313649229058),\n",
       " np.float64(3.663048938809697),\n",
       " np.float64(3.7354367724691535),\n",
       " np.float64(3.807986144680845),\n",
       " np.float64(3.8806887500062137),\n",
       " np.float64(3.9535366813972326),\n",
       " np.float64(4.026522413304104),\n",
       " np.float64(4.0996387852927025),\n",
       " np.float64(4.17287898617876),\n",
       " np.float64(4.246236538682507),\n",
       " np.float64(4.319705284604627),\n",
       " np.float64(4.39327937052187),\n",
       " np.float64(4.466953233998517),\n",
       " np.float64(4.5407215903080145),\n",
       " np.float64(4.614579419657508),\n",
       " np.float64(4.688521954906648),\n",
       " np.float64(4.762544669770925),\n",
       " np.float64(4.836643267498839),\n",
       " np.float64(4.910813670011444),\n",
       " np.float64(4.985052007492235),\n",
       " np.float64(5.059354608414827),\n",
       " np.float64(5.133717989995565),\n",
       " np.float64(5.208138849057956),\n",
       " np.float64(5.282614053295649),\n",
       " np.float64(5.357140632920656),\n",
       " np.float64(5.431715772683477),\n",
       " np.float64(5.506336804251905),\n",
       " np.float64(5.581001198935359),\n",
       " np.float64(5.655706560741798),\n",
       " np.float64(5.730450619754465),\n",
       " np.float64(5.805231225815935),\n",
       " np.float64(5.880046342507218),\n",
       " np.float64(5.954894041409959),\n",
       " np.float64(6.0297724966400565),\n",
       " np.float64(6.104679979641369),\n",
       " np.float64(6.179614854228488),\n",
       " np.float64(6.254575571867893),\n",
       " np.float64(6.3295606671871445),\n",
       " np.float64(6.404568753702126),\n",
       " np.float64(6.479598519752652),\n",
       " np.float64(6.554648724637156),\n",
       " np.float64(6.629718194937455),\n",
       " np.float64(6.7048058210249595),\n",
       " np.float64(6.779910553740005),\n",
       " np.float64(6.855031401236327),\n",
       " np.float64(6.930167425982992),\n",
       " np.float64(7.005317741916423),\n",
       " np.float64(7.080481511735469),\n",
       " np.float64(7.155657944332727),\n",
       " np.float64(7.230846292355659),\n",
       " np.float64(7.306045849891274),\n",
       " np.float64(7.381255950268454),\n",
       " np.float64(7.456475963972236),\n",
       " np.float64(7.531705296664631),\n",
       " np.float64(7.606943387306772),\n",
       " np.float64(7.682189706377467),\n",
       " np.float64(7.757443754183404),\n",
       " np.float64(7.832705059256505),\n",
       " np.float64(7.9079731768341235),\n",
       " np.float64(7.983247687417968),\n",
       " np.float64(8.058528195407854),\n",
       " np.float64(8.133814327806535),\n",
       " np.float64(8.209105732992063),\n",
       " np.float64(8.284402079554294),\n",
       " np.float64(8.359703055192307),\n",
       " np.float64(8.435008365669663),\n",
       " np.float64(8.510317733824586),\n",
       " np.float64(8.58563089863227),\n",
       " np.float64(8.66094761431668),\n",
       " np.float64(8.73626764950931),\n",
       " np.float64(8.811590786452516),\n",
       " np.float64(8.886916820245126),\n",
       " np.float64(8.96224555812818),\n",
       " np.float64(9.037576818808724),\n",
       " np.float64(9.112910431819707),\n",
       " np.float64(9.188246236914113),\n",
       " np.float64(9.263584083491564),\n",
       " np.float64(9.33892383005571),\n",
       " np.float64(9.414265343700817),\n",
       " np.float64(9.489608499626014),\n",
       " np.float64(9.564953180675785),\n",
       " np.float64(9.64029927690533),\n",
       " np.float64(9.715646685169474),\n",
       " np.float64(9.790995308733935),\n",
       " np.float64(9.866345056907722),\n",
       " np.float64(9.94169584469561),\n",
       " np.float64(10.017047592469602),\n",
       " np.float64(10.092400225658373),\n",
       " np.float64(10.16775367445378)]"
      ]
     },
     "execution_count": 23,
     "metadata": {},
     "output_type": "execute_result"
    }
   ],
   "source": [
    "LR_in_time"
   ]
  },
  {
   "cell_type": "code",
   "execution_count": 24,
   "metadata": {},
   "outputs": [
    {
     "name": "stderr",
     "output_type": "stream",
     "text": [
      "C:\\Users\\montone alessio\\AppData\\Local\\Temp\\ipykernel_2460\\1914829263.py:13: UserWarning: FigureCanvasAgg is non-interactive, and thus cannot be shown\n",
      "  plt.show()\n"
     ]
    }
   ],
   "source": [
    "# Create a scatter plot\n",
    "plt.figure(figsize=(8, 6))\n",
    "plt.scatter(t_fit, T_fit, color='blue', marker='o', label='Data Points')\n",
    "\n",
    "# Add labels, title, and legend\n",
    "plt.xlabel('X-axis Label')\n",
    "plt.ylabel('Y-axis Label')\n",
    "plt.title('Scatter Plot of NumPy Arrays')\n",
    "plt.legend()\n",
    "plt.grid()\n",
    "\n",
    "# Show the plot\n",
    "plt.show()"
   ]
  },
  {
   "cell_type": "code",
   "execution_count": 27,
   "metadata": {},
   "outputs": [
    {
     "data": {
      "text/plain": [
       "'2:31'"
      ]
     },
     "execution_count": 27,
     "metadata": {},
     "output_type": "execute_result"
    }
   ],
   "source": [
    "seconds_to_hhmm(9060)"
   ]
  },
  {
   "cell_type": "code",
   "execution_count": null,
   "metadata": {},
   "outputs": [],
   "source": []
  }
 ],
 "metadata": {
  "kernelspec": {
   "display_name": "cfe",
   "language": "python",
   "name": "python3"
  },
  "language_info": {
   "codemirror_mode": {
    "name": "ipython",
    "version": 3
   },
   "file_extension": ".py",
   "mimetype": "text/x-python",
   "name": "python",
   "nbconvert_exporter": "python",
   "pygments_lexer": "ipython3",
   "version": "3.13.1"
  }
 },
 "nbformat": 4,
 "nbformat_minor": 2
}
